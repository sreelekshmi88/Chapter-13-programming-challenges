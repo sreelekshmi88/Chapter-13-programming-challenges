{
 "cells": [
  {
   "cell_type": "markdown",
   "metadata": {},
   "source": [
    "# #Chapter 13 programming challenges\n",
    "BY R Sreelekshmi"
   ]
  },
  {
   "cell_type": "markdown",
   "metadata": {},
   "source": [
    "**Program 20-Advice please**"
   ]
  },
  {
   "cell_type": "code",
   "execution_count": 9,
   "metadata": {},
   "outputs": [
    {
     "name": "stdout",
     "output_type": "stream",
     "text": [
      "Would you like some advice?\n",
      "Y\n",
      "\n",
      "\n",
      "Always know where your towel is.\n"
     ]
    }
   ],
   "source": [
    "res=str(input(\"Would you like some advice?\\n\"))\n",
    "print(\"\\n\")\n",
    "if res==\"Y\":\n",
    " print(\"Always know where your towel is.\")"
   ]
  },
  {
   "cell_type": "markdown",
   "metadata": {},
   "source": [
    "**Program 21- Go Winner**"
   ]
  },
  {
   "cell_type": "code",
   "execution_count": 10,
   "metadata": {},
   "outputs": [
    {
     "name": "stdout",
     "output_type": "stream",
     "text": [
      "What is Black's score?\n",
      "88\n",
      "What is White's score?\n",
      "84\n",
      "\n",
      "\n",
      "After 6.5 is added the score is:\n",
      "Black - 88\n",
      "White - 90.5\n",
      "White is the winner.\n"
     ]
    }
   ],
   "source": [
    "black=int(input(\"What is Black's score?\\n\"))\n",
    "white=int(input(\"What is White's score?\\n\"))\n",
    "print(\"\\n\")\n",
    "print(\"After 6.5 is added the score is:\")\n",
    "white=white+6.5\n",
    "print(\"Black -\",black)\n",
    "print(\"White -\",white)\n",
    "if white>black:\n",
    " print(\"White is the winner.\")\n",
    "else:\n",
    " print(\"Black is the winner.\")\n",
    " "
   ]
  },
  {
   "cell_type": "markdown",
   "metadata": {},
   "source": [
    "**Program 22-Charity collection**"
   ]
  },
  {
   "cell_type": "code",
   "execution_count": 11,
   "metadata": {},
   "outputs": [
    {
     "name": "stdout",
     "output_type": "stream",
     "text": [
      "Please enter the first amount raised.\n",
      "398\n",
      "Please enter the second amount raised.\n",
      "193\n",
      "Please enter the third amount raised.\n",
      "478\n",
      "\n",
      "\n",
      "A total of £ 1069 was raised.\n",
      "This will be doubled to £ 2138 .\n"
     ]
    }
   ],
   "source": [
    "f=int(input(\"Please enter the first amount raised.\\n\"))\n",
    "s=int(input(\"Please enter the second amount raised.\\n\"))\n",
    "t=int(input(\"Please enter the third amount raised.\\n\"))\n",
    "total=f+s+t\n",
    "print(\"\\n\")\n",
    "print(\"A total of £\",total,\"was raised.\")\n",
    "if total>1000:\n",
    "    print(\"This will be doubled to £\",2*total,\".\")"
   ]
  },
  {
   "cell_type": "markdown",
   "metadata": {},
   "source": [
    "**Program 23-Calculate the area of a rectangle (part 2)**"
   ]
  },
  {
   "cell_type": "code",
   "execution_count": 12,
   "metadata": {},
   "outputs": [
    {
     "name": "stdout",
     "output_type": "stream",
     "text": [
      "Rectangle 1\n",
      "Please enter the length:\n",
      "12\n",
      "Please enter the width:\n",
      "6\n",
      "Rectangle 2\n",
      "Please enter the length:\n",
      "7\n",
      "Please enter the width:\n",
      "9\n",
      "\n",
      "\n",
      "Rectangle 1 has the largest area\n"
     ]
    }
   ],
   "source": [
    "print(\"Rectangle 1\")\n",
    "l1=int(input(\"Please enter the length:\\n\"))\n",
    "w1=int(input(\"Please enter the width:\\n\"))\n",
    "a1=l1*w1\n",
    "\n",
    "print(\"Rectangle 2\")\n",
    "l2=int(input(\"Please enter the length:\\n\"))\n",
    "w2=int(input(\"Please enter the width:\\n\"))\n",
    "a2=l2*w2\n",
    "\n",
    "print(\"\\n\")\n",
    "\n",
    "if a1>a2:\n",
    "    print(\"Rectangle 1 has the largest area\")\n",
    "else:\n",
    "    print(\"Rectangle 2 has the largest area\")\n",
    "    \n",
    "\n"
   ]
  },
  {
   "cell_type": "markdown",
   "metadata": {},
   "source": [
    "**Program 24-The most vowels**"
   ]
  },
  {
   "cell_type": "code",
   "execution_count": 14,
   "metadata": {},
   "outputs": [
    {
     "name": "stdout",
     "output_type": "stream",
     "text": [
      "Enter sentence 1\n",
      "You can't handle the truth!\n",
      "Enter sentence 2\n",
      "Houston, we have a problem.\n",
      "\n",
      "\n",
      "The percentage of vowels in sentence 1 is: 25.93\n",
      "The percentage of vowels in sentence 2 is: 33.33\n",
      "Sentence 1 has 7 vowels.\n",
      "Sentence 2 has 9 vowels.\n",
      "Sentence 2 has more vowels.\n"
     ]
    }
   ],
   "source": [
    "s1=input(\"Enter sentence 1\\n\")\n",
    "s2=input(\"Enter sentence 2\\n\")\n",
    "vow1=s1.count(\"a\")+s1.count(\"A\")+s1.count(\"e\")+s1.count(\"E\")+s1.count(\"i\")+s1.count(\"I\")+s1.count(\"o\")+s1.count(\"O\")+s1.count(\"u\")+s1.count(\"U\")\n",
    "vow2=s2.count(\"a\")+s2.count(\"A\")+s2.count(\"e\")+s2.count(\"E\")+s2.count(\"i\")+s2.count(\"I\")+s2.count(\"o\")+s2.count(\"O\")+s2.count(\"u\")+s2.count(\"U\")\n",
    "l1=len(s1)\n",
    "l2=len(s2)\n",
    "per1=100/l1*vow1\n",
    "per2=100/l2*vow2\n",
    "print(\"\\n\")\n",
    "print(\"The percentage of vowels in sentence 1 is:\",round(per1,2))\n",
    "print(\"The percentage of vowels in sentence 2 is:\",round(per2,2))\n",
    "print(\"Sentence 1 has\",vow1,\"vowels.\")\n",
    "print(\"Sentence 2 has\",vow2,\"vowels.\")\n",
    "\n",
    "if vow1>vow2:\n",
    "    print(\"Sentence 1 has more vowels.\")\n",
    "else:\n",
    "    print(\"Sentence 2 has more vowels.\")"
   ]
  },
  {
   "cell_type": "markdown",
   "metadata": {},
   "source": [
    "**Program 25-Advice please (part 2)**"
   ]
  },
  {
   "cell_type": "code",
   "execution_count": 16,
   "metadata": {},
   "outputs": [
    {
     "name": "stdout",
     "output_type": "stream",
     "text": [
      "Would you like some advice?\n",
      "D\n",
      "\n",
      "\n",
      "Sorry, you were asked to enter Y or N.\n"
     ]
    }
   ],
   "source": [
    "res=str(input(\"Would you like some advice?\\n\"))\n",
    "print(\"\\n\")\n",
    "if res==\"Y\":\n",
    " print(\"Always know where your towel is.\")\n",
    "if res==\"N\":\n",
    "    print(\"Okay.\")\n",
    "else :\n",
    "    print(\"Sorry, you were asked to enter Y or N.\")"
   ]
  },
  {
   "cell_type": "markdown",
   "metadata": {},
   "source": [
    "**Program 26- Car tyre check**"
   ]
  },
  {
   "cell_type": "code",
   "execution_count": 24,
   "metadata": {},
   "outputs": [
    {
     "name": "stdout",
     "output_type": "stream",
     "text": [
      "Please enter the test speed (mph).\n",
      "50\n",
      "Please enter the tested stopping distance (m).\n",
      "39.7\n",
      "\n",
      "\n",
      "Your car failed the braking distance test.\n"
     ]
    }
   ],
   "source": [
    "ts=int(input(\"Please enter the test speed (mph).\\n\"))\n",
    "td=float(input(\"Please enter the tested stopping distance (m).\\n\"))\n",
    "td=int(td)\n",
    "print(\"\\n\")\n",
    "if (ts==30 and td<=14) or (ts==50 and td<=38):\n",
    "   print(\"Your car passed the braking distance test.\")\n",
    "else:\n",
    "    print(\"Your car failed the braking distance test.\")"
   ]
  },
  {
   "cell_type": "markdown",
   "metadata": {},
   "source": [
    "**Program 27- Charity collection (part 2)**"
   ]
  },
  {
   "cell_type": "code",
   "execution_count": 26,
   "metadata": {},
   "outputs": [
    {
     "name": "stdout",
     "output_type": "stream",
     "text": [
      "Please enter the first amount raised.\n",
      "740\n",
      "Please enter the second amount raised.\n",
      "690\n",
      "Please enter the third amount raised.\n",
      "1024\n",
      "\n",
      "\n",
      "A total of £ 2454 was raised.\n",
      "With the company bonus, this is £ 4454 .\n"
     ]
    }
   ],
   "source": [
    "f=int(input(\"Please enter the first amount raised.\\n\"))\n",
    "s=int(input(\"Please enter the second amount raised.\\n\"))\n",
    "t=int(input(\"Please enter the third amount raised.\\n\"))\n",
    "total=f+s+t\n",
    "print(\"\\n\")\n",
    "print(\"A total of £\",total,\"was raised.\")\n",
    "if total<1000:\n",
    "    total=total+100\n",
    "    print(\"With the company bonus, this is £\",total,\".\")\n",
    "elif total<2000 and total>1000:\n",
    "    print(\"This will be doubled to £\",2*total,\".\")\n",
    "else:\n",
    "    rem=total-2000\n",
    "    total=4000+rem\n",
    "    print(\"With the company bonus, this is £\",total,\".\")\n",
    "    \n",
    "    "
   ]
  },
  {
   "cell_type": "code",
   "execution_count": null,
   "metadata": {},
   "outputs": [],
   "source": []
  }
 ],
 "metadata": {
  "kernelspec": {
   "display_name": "Python 3",
   "language": "python",
   "name": "python3"
  },
  "language_info": {
   "codemirror_mode": {
    "name": "ipython",
    "version": 3
   },
   "file_extension": ".py",
   "mimetype": "text/x-python",
   "name": "python",
   "nbconvert_exporter": "python",
   "pygments_lexer": "ipython3",
   "version": "3.7.7"
  }
 },
 "nbformat": 4,
 "nbformat_minor": 4
}
